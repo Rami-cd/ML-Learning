{
 "cells": [
  {
   "cell_type": "markdown",
   "metadata": {},
   "source": [
    "<h1>Decision boundary</h1>\n",
    "\n",
    "<style>\n",
    "    h1{\n",
    "        color: lightseagreen;\n",
    "        width: 100%;\n",
    "        text-align: center;\n",
    "    }\n",
    "</style>"
   ]
  },
  {
   "cell_type": "markdown",
   "metadata": {},
   "source": [
    "<h2>Recap</h2>\n",
    "\n",
    "<img src=\"images/89.png\">\n",
    "\n",
    "first step: compute z as z = w*x + b then apply sigmoid to this value.\n",
    "\n",
    "we can apply it directly (as shown on the right).\n",
    "\n",
    "how to know if y should be 0 or 1 ?\n",
    "\n",
    "a common choice to put a threshold of 0.5.\n",
    "\n",
    "<img src=\"images/90.png\">\n",
    "\n",
    "here an example when the <span style=\"color: red\">X</span> is positive and <span style=\"color: blue\">O</span> is negative.\n",
    "\n",
    "let's look at when y = 0, when get this line on the image.\n",
    "\n",
    "Let's look at more complex example where the decision boundary is no longer a straight line.\n",
    "\n",
    "<img src=\"images/91.png\">\n",
    "\n",
    "we can use plynomial of course, now it form a circle.\n",
    "\n",
    "another example\n",
    "\n",
    "<img src=\"images/92.png\">\n",
    "\n",
    "here we get even more complex descion boundarys (ellipse, random shapes).\n",
    "\n",
    "\n",
    "<style>\n",
    "    img {\n",
    "        width: 500px;\n",
    "        height: 340px;\n",
    "        border: 1px solid lightseagreen;\n",
    "        border-radius: 10px;\n",
    "    }\n",
    "    h2 {\n",
    "        margin-left: 20px;\n",
    "        color: lightseagreen;\n",
    "    }\n",
    "</style>"
   ]
  }
 ],
 "metadata": {
  "kernelspec": {
   "display_name": "python_main_env",
   "language": "python",
   "name": "python3"
  },
  "language_info": {
   "name": "python",
   "version": "3.11.8"
  }
 },
 "nbformat": 4,
 "nbformat_minor": 2
}
