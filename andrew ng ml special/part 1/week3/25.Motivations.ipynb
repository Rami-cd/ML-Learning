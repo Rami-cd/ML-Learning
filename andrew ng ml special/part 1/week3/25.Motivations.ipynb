{
 "cells": [
  {
   "cell_type": "markdown",
   "metadata": {},
   "source": [
    "<h1>    Motivations\n",
    "\n",
    "\n",
    "</h1>\n",
    "\n",
    "<style>\n",
    "    h1{\n",
    "        color: lightseagreen;\n",
    "        width: 100%;\n",
    "        text-align: center;\n",
    "    }\n",
    "</style>"
   ]
  },
  {
   "cell_type": "markdown",
   "metadata": {},
   "source": [
    "this part is about classification problem.\n",
    "\n",
    "example: \n",
    "figuring out if an email is a spam\n",
    "\n",
    "<img src=\"images/82.png\">\n",
    "\n",
    "in ***binary classification*** there is only 2 possible outputs/classes.\n",
    "\n",
    "how we build a classification algorithm ?\n",
    "\n",
    "<img src=\"images/83.png\">\n",
    "\n",
    "here we plotted the size on the x-axis and the class on the y-axis.\n",
    "\n",
    "we can try linear regression but here we want to classify.\n",
    "\n",
    "we can put a threshold, so if the model output is a value < 0.5 then we predict `ŷ` to be 0 (non maligmant), and if the model output is a number >= 0.5, then we predict `ŷ` to be 1 (maligmant).\n",
    "\n",
    "we can draw a straight line on the best fit straight line on the model, 1 to the left 0 to the right.\n",
    "\n",
    "let's see what happen if the dataset has 1 more training example (the one on the right).\n",
    "\n",
    "<img src=\"images/84.png\">\n",
    "\n",
    "here with linear regression we have a new fitting line and the training sets left behind the new line on the middle will be misclassified.\n",
    "\n",
    "the logistic regression avoid these problemes.\n",
    "\n",
    "<h2>Quiz</h2>\n",
    "\n",
    "<img src=\"images/85.png\">\n",
    "\n",
    "<style>\n",
    "    img {\n",
    "        width: 500px;\n",
    "        height: 340px;\n",
    "        border: 1px solid lightseagreen;\n",
    "        border-radius: 10px;\n",
    "    }\n",
    "    h2 {\n",
    "        margin-left: 20px;\n",
    "        color: lightseagreen;\n",
    "    }\n",
    "</style>"
   ]
  }
 ],
 "metadata": {
  "language_info": {
   "name": "python"
  }
 },
 "nbformat": 4,
 "nbformat_minor": 2
}
