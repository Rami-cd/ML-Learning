{
 "cells": [
  {
   "cell_type": "markdown",
   "metadata": {},
   "source": [
    "<h1>Unsupervised learning</h1>\n",
    "\n",
    "<style>\n",
    "    h1{\n",
    "        color: lightseagreen;\n",
    "        width: 100%;\n",
    "        text-align: center;\n",
    "    }\n",
    "</style>"
   ]
  },
  {
   "cell_type": "markdown",
   "metadata": {},
   "source": [
    "In the previous probleme each example was associated with output lable y (maligmant or benign), but in unsupervised learning we are giving data that not associated with any given label y\n",
    "\n",
    "<img src=\"images/8.png\">\n",
    "\n",
    "the goal is to find some structure/pattern, in the data.\n",
    "\n",
    "we ask the alg to figure out by itself.\n",
    "\n",
    "in this example the unsupervised learning algorithm might decide that to split the data in 2 different clusters\n",
    "\n",
    "<img src=\"images/9.png\">\n",
    "\n",
    "This is a specific type of unsupervised learning called ***Clustering***, since it place the data into different clusters.\n",
    "\n",
    "example uses, google news:\n",
    "\n",
    "<img src=\"images/10.png\">\n",
    "\n",
    "another example:\n",
    "\n",
    "<img src=\"images/11.png\">\n",
    "\n",
    "each column represent the DNA activities of one person.\n",
    "\n",
    "we are not telling the algorithm the types of people or what ties them, the alg split them to clusters.\n",
    "\n",
    "another example database of a company\n",
    "\n",
    "<img src=\"images/12.png\">\n",
    "\n",
    "<h2>Summary</h2>\n",
    "\n",
    "Unsupervised learning take data with no labels and tries to group them into clusters.\n",
    "\n",
    "<style>\n",
    "    img {\n",
    "        width: 400px;\n",
    "        height: 310px;\n",
    "        border: 1px solid lightseagreen;\n",
    "        border-radius: 10px;\n",
    "    }\n",
    "    h2 {\n",
    "        margin-left: 20px;\n",
    "        color: lightseagreen;\n",
    "    }\n",
    "</style>"
   ]
  },
  {
   "cell_type": "markdown",
   "metadata": {},
   "source": [
    "<h2>Another type of unsupervised learning</h2>\n",
    "\n",
    "***Anomaly detection*** and ***Dimensionality reduction***\n",
    "\n",
    "<img src=\"images/13.png\">\n",
    "\n",
    "<h2>Question</h2>\n",
    "\n",
    "<img src=\"images/14.png\">\n",
    "\n",
    "<style>\n",
    "    img {\n",
    "        width: 400px;\n",
    "        height: 310px;\n",
    "        border: 1px solid lightseagreen;\n",
    "        border-radius: 10px;\n",
    "    }\n",
    "    h2 {\n",
    "        margin-left: 20px;\n",
    "        color: lightseagreen;\n",
    "    }\n",
    "</style>"
   ]
  }
 ],
 "metadata": {
  "language_info": {
   "name": "python"
  }
 },
 "nbformat": 4,
 "nbformat_minor": 2
}
