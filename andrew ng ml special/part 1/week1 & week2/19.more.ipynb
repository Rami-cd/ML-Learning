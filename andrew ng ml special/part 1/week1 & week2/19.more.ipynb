{
 "cells": [
  {
   "cell_type": "markdown",
   "metadata": {
    "vscode": {
     "languageId": "plaintext"
    }
   },
   "source": [
    "<h1>    More\n",
    "\n",
    "</h1>\n",
    "\n",
    "<style>\n",
    "    h1{\n",
    "        color: lightseagreen;\n",
    "        width: 100%;\n",
    "        text-align: center;\n",
    "    }\n",
    "</style>"
   ]
  },
  {
   "cell_type": "markdown",
   "metadata": {},
   "source": [
    "<h2>Feature engineering</h2>\n",
    "\n",
    "how to choose or engineer the most appropeiate features for your learning algorithm.\n",
    "\n",
    "<img src=\"images/79.png\">\n",
    "\n",
    "the first model is ok but there is better:\n",
    "\n",
    "you might define a new feature (the area here), so the model now have 3 features, depending on the data.\n",
    "\n",
    "creating a new feature is feature engineering.\n",
    "\n",
    "<style>\n",
    "    img {\n",
    "        width: 500px;\n",
    "        height: 340px;\n",
    "        border: 1px solid lightseagreen;\n",
    "        border-radius: 10px;\n",
    "    }\n",
    "    h2 {\n",
    "        margin-left: 20px;\n",
    "        color: lightseagreen;\n",
    "    }\n",
    "</style>"
   ]
  },
  {
   "cell_type": "markdown",
   "metadata": {},
   "source": [
    "<h2>Polynomial regression</h2>\n",
    "\n",
    "<img src=\"images/80.png\">\n",
    "\n",
    "here a linear model will not fit the data, we choose a quadratic model but a quadratic model will go down eventually, we may coose a quubic function.\n",
    "\n",
    "the features are the sizes with powers.\n",
    "\n",
    "we have a wide range of choices of features to use\n",
    "\n",
    "<img src=\"images/81.png\">\n",
    "\n",
    "<p style=\"color:lightgreen\">we will decide what feature is the best to use later.</p>\n",
    "\n",
    "\n",
    "\n",
    "<style>\n",
    "    img {\n",
    "        width: 500px;\n",
    "        height: 340px;\n",
    "        border: 1px solid lightseagreen;\n",
    "        border-radius: 10px;\n",
    "    }\n",
    "    h2 {\n",
    "        margin-left: 20px;\n",
    "        color: lightseagreen;\n",
    "    }\n",
    "</style>"
   ]
  }
 ],
 "metadata": {
  "language_info": {
   "name": "python"
  }
 },
 "nbformat": 4,
 "nbformat_minor": 2
}
