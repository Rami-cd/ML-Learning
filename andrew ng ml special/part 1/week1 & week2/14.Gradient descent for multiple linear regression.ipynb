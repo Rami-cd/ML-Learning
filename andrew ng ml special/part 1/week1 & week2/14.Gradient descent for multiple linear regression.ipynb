{
 "cells": [
  {
   "cell_type": "markdown",
   "metadata": {},
   "source": [
    "<h1>    Gradient descent for multiple linear regression\n",
    "\n",
    "</h1>\n",
    "\n",
    "<style>\n",
    "    h1{\n",
    "        color: lightseagreen;\n",
    "        width: 100%;\n",
    "        text-align: center;\n",
    "    }\n",
    "</style>"
   ]
  },
  {
   "cell_type": "markdown",
   "metadata": {},
   "source": [
    "using previous notation let's see how we can write it using vector notation\n",
    "\n",
    "<img src=\"images/66.png\">\n",
    "\n",
    "`.` is dot product\n",
    "\n",
    "now let's look at the derivative\n",
    "\n",
    "<img src=\"images/67.png\">\n",
    "\n",
    "<h2>alternative way to find w and b</h2>\n",
    "\n",
    "gradient descent is a great method for minimizing the cost to find w and b, there is another algorithm for this (just for linear regression)\n",
    "\n",
    "<img src=\"images/68.png\">\n",
    "\n",
    "it doesn't need a iterative gradient descent algorithm.\n",
    "\n",
    "but it work only for linear regression and it's a bit slow.\n",
    "\n",
    "it's better to use gradient descent.\n",
    "\n",
    "\n",
    "\n",
    "<style>\n",
    "    img {\n",
    "        width: 500px;\n",
    "        height: 340px;\n",
    "        border: 1px solid lightseagreen;\n",
    "        border-radius: 10px;\n",
    "    }\n",
    "    h2 {\n",
    "        margin-left: 20px;\n",
    "        color: lightseagreen;\n",
    "    }\n",
    "</style>"
   ]
  },
  {
   "cell_type": "markdown",
   "metadata": {},
   "source": [
    "\n",
    "\n",
    "<style>\n",
    "    img {\n",
    "        width: 500px;\n",
    "        height: 340px;\n",
    "        border: 1px solid lightseagreen;\n",
    "        border-radius: 10px;\n",
    "    }\n",
    "    h2 {\n",
    "        margin-left: 20px;\n",
    "        color: lightseagreen;\n",
    "    }\n",
    "</style>"
   ]
  }
 ],
 "metadata": {
  "kernelspec": {
   "display_name": "python_main_env",
   "language": "python",
   "name": "python3"
  },
  "language_info": {
   "name": "python",
   "version": "3.11.8"
  }
 },
 "nbformat": 4,
 "nbformat_minor": 2
}
